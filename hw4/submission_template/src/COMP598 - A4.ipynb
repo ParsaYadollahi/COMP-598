{
 "cells": [
  {
   "cell_type": "code",
   "execution_count": 3,
   "id": "feee1467",
   "metadata": {
    "scrolled": false
   },
   "outputs": [],
   "source": [
    "%%capture cap --no-stderr\n",
    "import pandas as pd\n",
    "\n",
    "parse_dates = ['created date', 'closed date']\n",
    "csv_path = \"/Users/pyadollahicoveo.com/dev/school/COMP-598/hw4/submission_template/data/data_trimmed_cols.csv\"\n",
    "\n",
    "df = pd.read_csv(csv_path, low_memory=False)\n",
    "display(df)\n",
    "\n",
    "print(len(df['incident zip'].unique()))\n",
    "\n",
    "with open('jupyter.log', 'w') as f:\n",
    "    f.write(cap.stdout)"
   ]
  },
  {
   "cell_type": "code",
   "execution_count": null,
   "id": "4f3b2a5b",
   "metadata": {},
   "outputs": [],
   "source": []
  }
 ],
 "metadata": {
  "kernelspec": {
   "display_name": "Python 3 (ipykernel)",
   "language": "python",
   "name": "python3"
  },
  "language_info": {
   "codemirror_mode": {
    "name": "ipython",
    "version": 3
   },
   "file_extension": ".py",
   "mimetype": "text/x-python",
   "name": "python",
   "nbconvert_exporter": "python",
   "pygments_lexer": "ipython3",
   "version": "3.9.7"
  }
 },
 "nbformat": 4,
 "nbformat_minor": 5
}
